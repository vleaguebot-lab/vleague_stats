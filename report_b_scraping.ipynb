{
 "cells": [
  {
   "cell_type": "code",
   "execution_count": 1,
   "id": "9dba0c39-fa75-4fe5-bb7b-f75aee1ff77b",
   "metadata": {},
   "outputs": [],
   "source": [
    "import os\n",
    "import datetime\n",
    "import time\n",
    "import re\n",
    "import glob\n",
    "\n",
    "import requests\n",
    "import numpy as np\n",
    "import pandas as pd\n",
    "\n",
    "from bs4 import BeautifulSoup\n",
    "import urllib.request as req"
   ]
  },
  {
   "cell_type": "code",
   "execution_count": 152,
   "id": "9282a2db-f340-4e70-a252-9b48d02fe289",
   "metadata": {},
   "outputs": [],
   "source": [
    "url = 'https://www.vleague.jp/form/b/26887'"
   ]
  },
  {
   "cell_type": "code",
   "execution_count": 153,
   "id": "4aa07f3f-6a95-4fa0-9119-4bb4cd7ebf3b",
   "metadata": {},
   "outputs": [],
   "source": [
    "html = requests.get(url)\n",
    "table = pd.read_html(html.text)"
   ]
  },
  {
   "cell_type": "markdown",
   "id": "15519bfc-e533-4588-a927-a0ed5e4f3e59",
   "metadata": {},
   "source": [
    "## テーブルの各内容\n",
    "- 0：セット＆点数\n",
    "- 1：スタッフ(真ん中)＆スタメン背番号(両サイド)\n",
    "- 2：スタッフ＆通算勝敗・ポイント\n",
    "- 3：チーム各種技術スタッツ(アタック決定率など)\n",
    "- 4&5：個人スタッツ"
   ]
  },
  {
   "cell_type": "code",
   "execution_count": 154,
   "id": "65b23394-f571-4dd6-a184-9f531b206678",
   "metadata": {},
   "outputs": [
    {
     "data": {
      "text/html": [
       "<div>\n",
       "<style scoped>\n",
       "    .dataframe tbody tr th:only-of-type {\n",
       "        vertical-align: middle;\n",
       "    }\n",
       "\n",
       "    .dataframe tbody tr th {\n",
       "        vertical-align: top;\n",
       "    }\n",
       "\n",
       "    .dataframe thead th {\n",
       "        text-align: right;\n",
       "    }\n",
       "</style>\n",
       "<table border=\"1\" class=\"dataframe\">\n",
       "  <thead>\n",
       "    <tr style=\"text-align: right;\">\n",
       "      <th></th>\n",
       "      <th>チーム</th>\n",
       "      <th>セット</th>\n",
       "      <th>ポイント</th>\n",
       "      <th>1</th>\n",
       "      <th>2</th>\n",
       "      <th>3</th>\n",
       "      <th>4</th>\n",
       "      <th>5</th>\n",
       "      <th>合計</th>\n",
       "    </tr>\n",
       "  </thead>\n",
       "  <tbody>\n",
       "    <tr>\n",
       "      <th>0</th>\n",
       "      <td>岡山シーガルズ</td>\n",
       "      <td>2</td>\n",
       "      <td>1</td>\n",
       "      <td>30</td>\n",
       "      <td>24</td>\n",
       "      <td>25</td>\n",
       "      <td>13</td>\n",
       "      <td>11</td>\n",
       "      <td>103</td>\n",
       "    </tr>\n",
       "    <tr>\n",
       "      <th>1</th>\n",
       "      <td>埼玉上尾メディックス</td>\n",
       "      <td>3</td>\n",
       "      <td>2</td>\n",
       "      <td>28</td>\n",
       "      <td>26</td>\n",
       "      <td>23</td>\n",
       "      <td>25</td>\n",
       "      <td>15</td>\n",
       "      <td>117</td>\n",
       "    </tr>\n",
       "    <tr>\n",
       "      <th>2</th>\n",
       "      <td>試合時間</td>\n",
       "      <td>試合時間</td>\n",
       "      <td>試合時間</td>\n",
       "      <td>0:32</td>\n",
       "      <td>0:34</td>\n",
       "      <td>0:31</td>\n",
       "      <td>0:22</td>\n",
       "      <td>0:15</td>\n",
       "      <td>2:14</td>\n",
       "    </tr>\n",
       "  </tbody>\n",
       "</table>\n",
       "</div>"
      ],
      "text/plain": [
       "          チーム   セット  ポイント     1     2     3     4     5    合計\n",
       "0     岡山シーガルズ     2     1    30    24    25    13    11   103\n",
       "1  埼玉上尾メディックス     3     2    28    26    23    25    15   117\n",
       "2        試合時間  試合時間  試合時間  0:32  0:34  0:31  0:22  0:15  2:14"
      ]
     },
     "execution_count": 154,
     "metadata": {},
     "output_type": "execute_result"
    }
   ],
   "source": [
    "table[0]"
   ]
  },
  {
   "cell_type": "code",
   "execution_count": 155,
   "id": "9606b06f-c4bd-4eaa-9ac4-a4ffde1e3c3f",
   "metadata": {},
   "outputs": [
    {
     "name": "stdout",
     "output_type": "stream",
     "text": [
      "岡山シーガルズ 埼玉上尾メディックス\n"
     ]
    }
   ],
   "source": [
    "home, away = table[0].loc[0, 'チーム'], table[0].loc[1, 'チーム']\n",
    "print(home, away)"
   ]
  },
  {
   "cell_type": "code",
   "execution_count": 156,
   "id": "d3d5dd5a-b12d-44f2-a948-c355b424f0ef",
   "metadata": {},
   "outputs": [
    {
     "name": "stdout",
     "output_type": "stream",
     "text": [
      "(7, 11)\n"
     ]
    }
   ],
   "source": [
    "t_stats = table[3]\n",
    "print(t_stats.shape)"
   ]
  },
  {
   "cell_type": "code",
   "execution_count": 157,
   "id": "8590572f-1503-47f7-84ec-3035ee62cae1",
   "metadata": {},
   "outputs": [
    {
     "name": "stdout",
     "output_type": "stream",
     "text": [
      "[30.3, 0.0, 1.0, 9.7, 75.7] [39.3, 22.2, 2.2, 2.6, 62.4]\n",
      "[30.3, 0.0, 20.0, 48.5, 75.7] [39.3, 22.2, 44.0, 13.0, 62.4]\n",
      "['b', 'b', 'b', 'r', 'r'] ['r', 'r', 'r', 'b', 'b']\n"
     ]
    }
   ],
   "source": [
    "home_stats, away_stats = [], []\n",
    "# 優劣を色分け\n",
    "home_excel, away_excel = [], []\n",
    "# グラフの為の変更した値\n",
    "home_stats_v, away_stats_v = [], []\n",
    "for i in range(t_stats.shape[0]-2):\n",
    "    h_stats = t_stats.iloc[i,1]\n",
    "    a_stats = t_stats.iloc[i,9]\n",
    "    if i == 2:\n",
    "        h_stats_v, a_stats_v = h_stats*20, a_stats*20\n",
    "    elif i == 3:\n",
    "        h_stats_v, a_stats_v = h_stats*5, a_stats*5\n",
    "    else:\n",
    "        h_stats_v, a_stats_v = h_stats, a_stats\n",
    "#     print(h_stats, a_stats)\n",
    "    if h_stats > a_stats:\n",
    "        h_excel, a_excel = 'r', 'b'\n",
    "    elif h_stats == a_stats:\n",
    "        h_excel, a_excel = 'r', 'r'\n",
    "    else:\n",
    "        h_excel, a_excel = 'b', 'r'\n",
    "    home_excel.append(h_excel)\n",
    "    away_excel.append(a_excel)\n",
    "    \n",
    "    home_stats.append(h_stats)\n",
    "    away_stats.append(a_stats)\n",
    "    home_stats_v.append(h_stats_v)\n",
    "    away_stats_v.append(a_stats_v)\n",
    "\n",
    "print(home_stats, away_stats)\n",
    "print(home_stats_v, away_stats_v)\n",
    "print(home_excel, away_excel)"
   ]
  },
  {
   "cell_type": "code",
   "execution_count": 160,
   "id": "bdbc4a9b-ccc1-4bad-ad7c-61f6bfbf0fc8",
   "metadata": {},
   "outputs": [
    {
     "data": {
      "image/png": "[encoded data removed]",
      "text/plain": [
       "<Figure size 432x288 with 2 Axes>"
      ]
     },
     "metadata": {
      "needs_background": "light"
     },
     "output_type": "display_data"
    }
   ],
   "source": [
    "from matplotlib import pyplot as plt\n",
    "# columns = ['アタック\\n決定率', 'バックアタック\\n決定率', 'ブロック\\nセット平均', 'サーブ\\n効果率', 'サーブレシーブ\\n成功率']\n",
    "columns = ['①', '②', '③', '④', '⑤']\n",
    "\n",
    "fig, (ax1, ax2) = plt.subplots(1, 2)\n",
    "\n",
    "# ax1.plot(x, y)\n",
    "ax1.barh(columns, home_stats_v, color=home_excel)\n",
    "# ax1.set_yticklabels(columns, fontsize=16)\n",
    "ax1.set_title(home, fontsize=18)\n",
    "ax1.tick_params(labelleft=False, labelbottom=False)\n",
    "ax1.set_xlim(0, 100)\n",
    "ax1.grid(True)\n",
    "[ax1.text(home_stats_v[i]+15, i, home_stats[i], horizontalalignment='center', fontsize=16) for i in range(5)]\n",
    "\n",
    "ax2.barh(columns, away_stats_v, color=away_excel)\n",
    "# ax2.set_yticklabels(columns, fontsize=16)\n",
    "ax2.set_title(away, fontsize=18)\n",
    "ax2.tick_params(labelright=False, labelbottom=False, labelsize=14)\n",
    "ax2.set_xlim(0, 100)\n",
    "ax2.grid(True)\n",
    "[ax2.text(away_stats_v[i]+15, i, away_stats[i], horizontalalignment='center', fontsize=16) for i in range(5)]\n",
    "\n",
    "ax1.invert_xaxis()\n",
    "ax1.invert_yaxis()\n",
    "ax2.invert_yaxis()\n",
    "\n",
    "\n",
    "fig.tight_layout()\n",
    "plt.savefig('team_stats.png', facecolor='white')\n",
    "plt.show()"
   ]
  },
  {
   "cell_type": "code",
   "execution_count": 69,
   "id": "24d5d109-ffe6-48e4-a1bb-1453fdff0bd4",
   "metadata": {},
   "outputs": [],
   "source": [
    "import japanize_matplotlib"
   ]
  },
  {
   "cell_type": "code",
   "execution_count": 184,
   "id": "9cdb496a-fa27-4346-9e3b-f55df4265bff",
   "metadata": {},
   "outputs": [],
   "source": [
    "headers = {\"User-Agent\": \"Mozilla/5.0\"}\n",
    "url = 'https://www.vleague.jp//form/b/27010'\n",
    "html = requests.get(url, headers=headers)\n",
    "check = html.text\n",
    "# check"
   ]
  },
  {
   "cell_type": "code",
   "execution_count": 185,
   "id": "915d80cd-3ab1-4582-b07c-494796a6501a",
   "metadata": {},
   "outputs": [],
   "source": [
    "data = pd.read_html(check)"
   ]
  },
  {
   "cell_type": "code",
   "execution_count": 189,
   "id": "684094d6-acb0-4658-9c76-cb4b570cdf66",
   "metadata": {},
   "outputs": [
    {
     "data": {
      "text/html": [
       "<div>\n",
       "<style scoped>\n",
       "    .dataframe tbody tr th:only-of-type {\n",
       "        vertical-align: middle;\n",
       "    }\n",
       "\n",
       "    .dataframe tbody tr th {\n",
       "        vertical-align: top;\n",
       "    }\n",
       "\n",
       "    .dataframe thead th {\n",
       "        text-align: right;\n",
       "    }\n",
       "</style>\n",
       "<table border=\"1\" class=\"dataframe\">\n",
       "  <thead>\n",
       "    <tr style=\"text-align: right;\">\n",
       "      <th></th>\n",
       "      <th>0</th>\n",
       "      <th>1</th>\n",
       "      <th>2</th>\n",
       "    </tr>\n",
       "  </thead>\n",
       "  <tbody>\n",
       "    <tr>\n",
       "      <th>0</th>\n",
       "      <td>河本　昭義</td>\n",
       "      <td>監督</td>\n",
       "      <td>酒井　新悟</td>\n",
       "    </tr>\n",
       "    <tr>\n",
       "      <th>1</th>\n",
       "      <td>吉田　啓佑</td>\n",
       "      <td>コーチ</td>\n",
       "      <td>豊暉原　峻</td>\n",
       "    </tr>\n",
       "    <tr>\n",
       "      <th>2</th>\n",
       "      <td>6勝14敗</td>\n",
       "      <td>通算</td>\n",
       "      <td>11勝6敗</td>\n",
       "    </tr>\n",
       "    <tr>\n",
       "      <th>3</th>\n",
       "      <td>20</td>\n",
       "      <td>ポイント</td>\n",
       "      <td>34</td>\n",
       "    </tr>\n",
       "  </tbody>\n",
       "</table>\n",
       "</div>"
      ],
      "text/plain": [
       "       0     1      2\n",
       "0  河本　昭義    監督  酒井　新悟\n",
       "1  吉田　啓佑   コーチ  豊暉原　峻\n",
       "2  6勝14敗    通算  11勝6敗\n",
       "3     20  ポイント     34"
      ]
     },
     "execution_count": 189,
     "metadata": {},
     "output_type": "execute_result"
    }
   ],
   "source": [
    "data[2]"
   ]
  },
  {
   "cell_type": "code",
   "execution_count": 177,
   "id": "14eecc86-0ed7-434b-9c5e-cd90ea86da1a",
   "metadata": {},
   "outputs": [],
   "source": [
    "request = req.Request(url, headers=headers)\n",
    "response = req.urlopen(request)\n",
    "parse_html = BeautifulSoup(response, 'html.parser')\n",
    "check = parse_html.text\n",
    "match_num = parse_html.find(\n",
    "            'p', class_='match_no left').find('span').text"
   ]
  },
  {
   "cell_type": "code",
   "execution_count": 191,
   "id": "336d7d41-484b-4001-95a6-eb8821ff8daf",
   "metadata": {},
   "outputs": [
    {
     "data": {
      "text/plain": [
       "'422'"
      ]
     },
     "execution_count": 191,
     "metadata": {},
     "output_type": "execute_result"
    }
   ],
   "source": [
    "match_num"
   ]
  },
  {
   "cell_type": "code",
   "execution_count": 192,
   "id": "a0bbd596-4e71-40ea-977c-6e5f58264d3d",
   "metadata": {},
   "outputs": [
    {
     "data": {
      "text/html": [
       "<div>\n",
       "<style scoped>\n",
       "    .dataframe tbody tr th:only-of-type {\n",
       "        vertical-align: middle;\n",
       "    }\n",
       "\n",
       "    .dataframe tbody tr th {\n",
       "        vertical-align: top;\n",
       "    }\n",
       "\n",
       "    .dataframe thead th {\n",
       "        text-align: right;\n",
       "    }\n",
       "</style>\n",
       "<table border=\"1\" class=\"dataframe\">\n",
       "  <thead>\n",
       "    <tr style=\"text-align: right;\">\n",
       "      <th></th>\n",
       "      <th>チーム</th>\n",
       "      <th>セット</th>\n",
       "      <th>ポイント</th>\n",
       "      <th>1</th>\n",
       "      <th>2</th>\n",
       "      <th>3</th>\n",
       "      <th>4</th>\n",
       "      <th>5</th>\n",
       "      <th>合計</th>\n",
       "    </tr>\n",
       "  </thead>\n",
       "  <tbody>\n",
       "    <tr>\n",
       "      <th>0</th>\n",
       "      <td>岡山シーガルズ</td>\n",
       "      <td>3</td>\n",
       "      <td>3</td>\n",
       "      <td>25</td>\n",
       "      <td>20</td>\n",
       "      <td>29</td>\n",
       "      <td>25</td>\n",
       "      <td>NaN</td>\n",
       "      <td>99</td>\n",
       "    </tr>\n",
       "    <tr>\n",
       "      <th>1</th>\n",
       "      <td>久光スプリングス</td>\n",
       "      <td>1</td>\n",
       "      <td>0</td>\n",
       "      <td>19</td>\n",
       "      <td>25</td>\n",
       "      <td>27</td>\n",
       "      <td>21</td>\n",
       "      <td>NaN</td>\n",
       "      <td>92</td>\n",
       "    </tr>\n",
       "    <tr>\n",
       "      <th>2</th>\n",
       "      <td>試合時間</td>\n",
       "      <td>試合時間</td>\n",
       "      <td>試合時間</td>\n",
       "      <td>0:25</td>\n",
       "      <td>0:29</td>\n",
       "      <td>0:33</td>\n",
       "      <td>0:28</td>\n",
       "      <td>NaN</td>\n",
       "      <td>1:55</td>\n",
       "    </tr>\n",
       "  </tbody>\n",
       "</table>\n",
       "</div>"
      ],
      "text/plain": [
       "        チーム   セット  ポイント     1     2     3     4   5    合計\n",
       "0   岡山シーガルズ     3     3    25    20    29    25 NaN    99\n",
       "1  久光スプリングス     1     0    19    25    27    21 NaN    92\n",
       "2      試合時間  試合時間  試合時間  0:25  0:29  0:33  0:28 NaN  1:55"
      ]
     },
     "execution_count": 192,
     "metadata": {},
     "output_type": "execute_result"
    }
   ],
   "source": [
    "data[0]"
   ]
  },
  {
   "cell_type": "code",
   "execution_count": null,
   "id": "b5ecce05-64a1-40f5-a1f7-0e543f31ac2c",
   "metadata": {},
   "outputs": [],
   "source": []
  }
 ],
 "metadata": {
  "kernelspec": {
   "display_name": "Python 3 (ipykernel)",
   "language": "python",
   "name": "python3"
  },
  "language_info": {
   "codemirror_mode": {
    "name": "ipython",
    "version": 3
   },
   "file_extension": ".py",
   "mimetype": "text/x-python",
   "name": "python",
   "nbconvert_exporter": "python",
   "pygments_lexer": "ipython3",
   "version": "3.8.13"
  }
 },
 "nbformat": 4,
 "nbformat_minor": 5
}
